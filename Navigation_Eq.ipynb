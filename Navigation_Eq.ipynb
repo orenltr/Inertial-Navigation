{
 "cells": [
  {
   "cell_type": "code",
   "execution_count": 75,
   "metadata": {
    "collapsed": true
   },
   "outputs": [],
   "source": [
    "import numpy as np\n",
    "from numpy import cos, sin\n",
    "import pandas as pd\n",
    "import matplotlib.pyplot as plt\n",
    "%matplotlib inline\n"
   ]
  },
  {
   "cell_type": "markdown",
   "source": [
    "## calibration"
   ],
   "metadata": {
    "collapsed": false
   }
  },
  {
   "cell_type": "code",
   "execution_count": 76,
   "outputs": [],
   "source": [
    "Xdn = pd.read_csv(r'data\\calibration\\side\\X1.csv')\n",
    "Xup = pd.read_csv(r'data\\calibration\\side\\X2.csv')\n",
    "\n",
    "Ydn = pd.read_csv(r'data\\calibration\\stand\\Y1.csv')\n",
    "Yup = pd.read_csv(r'data\\calibration\\stand\\Y2.csv')\n",
    "\n",
    "Zdn = pd.read_csv(r'data\\calibration\\lay\\Z1.csv')\n",
    "Zup = pd.read_csv(r'data\\calibration\\lay\\Z2.csv')"
   ],
   "metadata": {
    "collapsed": false,
    "pycharm": {
     "name": "#%%\n"
    }
   }
  },
  {
   "cell_type": "code",
   "execution_count": 77,
   "outputs": [],
   "source": [
    "bXa = (Xdn.iloc[:,0].mean()+Xup.iloc[:,0].mean())/2\n",
    "bYa = (Ydn.iloc[:,1].mean()+Yup.iloc[:,1].mean())/2\n",
    "bZa = (Zdn.iloc[:,2].mean()+Zup.iloc[:,2].mean())/2\n",
    "\n",
    "bXg = (Xdn.iloc[:,3].mean()+Xup.iloc[:,3].mean())/2\n",
    "bYg = (Ydn.iloc[:,4].mean()+Yup.iloc[:,4].mean())/2\n",
    "bZg = (Zdn.iloc[:,5].mean()+Zup.iloc[:,5].mean())/2\n",
    "\n",
    "ba = np.array([bXa,bYa,bZa])\n",
    "bg = np.array([bXg,bYg,bZg])"
   ],
   "metadata": {
    "collapsed": false,
    "pycharm": {
     "name": "#%%\n"
    }
   }
  },
  {
   "cell_type": "code",
   "execution_count": 78,
   "outputs": [],
   "source": [
    "# read data\n",
    "# acc_1 = pd.read_csv(r'data\\70_steps_acc.csv')\n",
    "# gyro_1 = pd.read_csv(r'data\\70_steps_gyro.csv')\n",
    "# gravity = pd.read_csv(r'data\\24_steps\\Gravity.csv')"
   ],
   "metadata": {
    "collapsed": false,
    "pycharm": {
     "name": "#%%\n"
    }
   }
  },
  {
   "cell_type": "code",
   "execution_count": 79,
   "outputs": [
    {
     "data": {
      "text/plain": "       ax      ay      az   gx      gy      gz  time                     date\n0  9.1614 -0.6476 -0.3292  0.0  0.0000  0.0011     3  2021-01-13 22:37:30:585\n1  9.1566 -0.6512 -0.3172  0.0  0.0000  0.0011    24  2021-01-13 22:37:30:606\n2  9.1566 -0.6512 -0.3172  0.0  0.0000  0.0011    43  2021-01-13 22:37:30:625\n3  9.1566 -0.6512 -0.3172  0.0  0.0000  0.0011    64  2021-01-13 22:37:30:646\n4  9.1566 -0.6512 -0.3172  0.0 -0.0011 -0.0011    83  2021-01-13 22:37:30:665",
      "text/html": "<div>\n<style scoped>\n    .dataframe tbody tr th:only-of-type {\n        vertical-align: middle;\n    }\n\n    .dataframe tbody tr th {\n        vertical-align: top;\n    }\n\n    .dataframe thead th {\n        text-align: right;\n    }\n</style>\n<table border=\"1\" class=\"dataframe\">\n  <thead>\n    <tr style=\"text-align: right;\">\n      <th></th>\n      <th>ax</th>\n      <th>ay</th>\n      <th>az</th>\n      <th>gx</th>\n      <th>gy</th>\n      <th>gz</th>\n      <th>time</th>\n      <th>date</th>\n    </tr>\n  </thead>\n  <tbody>\n    <tr>\n      <th>0</th>\n      <td>9.1614</td>\n      <td>-0.6476</td>\n      <td>-0.3292</td>\n      <td>0.0</td>\n      <td>0.0000</td>\n      <td>0.0011</td>\n      <td>3</td>\n      <td>2021-01-13 22:37:30:585</td>\n    </tr>\n    <tr>\n      <th>1</th>\n      <td>9.1566</td>\n      <td>-0.6512</td>\n      <td>-0.3172</td>\n      <td>0.0</td>\n      <td>0.0000</td>\n      <td>0.0011</td>\n      <td>24</td>\n      <td>2021-01-13 22:37:30:606</td>\n    </tr>\n    <tr>\n      <th>2</th>\n      <td>9.1566</td>\n      <td>-0.6512</td>\n      <td>-0.3172</td>\n      <td>0.0</td>\n      <td>0.0000</td>\n      <td>0.0011</td>\n      <td>43</td>\n      <td>2021-01-13 22:37:30:625</td>\n    </tr>\n    <tr>\n      <th>3</th>\n      <td>9.1566</td>\n      <td>-0.6512</td>\n      <td>-0.3172</td>\n      <td>0.0</td>\n      <td>0.0000</td>\n      <td>0.0011</td>\n      <td>64</td>\n      <td>2021-01-13 22:37:30:646</td>\n    </tr>\n    <tr>\n      <th>4</th>\n      <td>9.1566</td>\n      <td>-0.6512</td>\n      <td>-0.3172</td>\n      <td>0.0</td>\n      <td>-0.0011</td>\n      <td>-0.0011</td>\n      <td>83</td>\n      <td>2021-01-13 22:37:30:665</td>\n    </tr>\n  </tbody>\n</table>\n</div>"
     },
     "execution_count": 79,
     "metadata": {},
     "output_type": "execute_result"
    }
   ],
   "source": [
    "ins = pd.read_csv(r'data\\calibration\\side\\X1.csv')\n",
    "ins.columns = ['ax','ay','az','gx','gy','gz','time','date']\n",
    "ins.head()"
   ],
   "metadata": {
    "collapsed": false,
    "pycharm": {
     "name": "#%%\n"
    }
   }
  },
  {
   "cell_type": "code",
   "execution_count": 80,
   "outputs": [
    {
     "data": {
      "text/plain": "   time   gx      gy      gz\n0     3  0.0  0.0000  0.0011\n1    24  0.0  0.0000  0.0011\n2    43  0.0  0.0000  0.0011\n3    64  0.0  0.0000  0.0011\n4    83  0.0 -0.0011 -0.0011",
      "text/html": "<div>\n<style scoped>\n    .dataframe tbody tr th:only-of-type {\n        vertical-align: middle;\n    }\n\n    .dataframe tbody tr th {\n        vertical-align: top;\n    }\n\n    .dataframe thead th {\n        text-align: right;\n    }\n</style>\n<table border=\"1\" class=\"dataframe\">\n  <thead>\n    <tr style=\"text-align: right;\">\n      <th></th>\n      <th>time</th>\n      <th>gx</th>\n      <th>gy</th>\n      <th>gz</th>\n    </tr>\n  </thead>\n  <tbody>\n    <tr>\n      <th>0</th>\n      <td>3</td>\n      <td>0.0</td>\n      <td>0.0000</td>\n      <td>0.0011</td>\n    </tr>\n    <tr>\n      <th>1</th>\n      <td>24</td>\n      <td>0.0</td>\n      <td>0.0000</td>\n      <td>0.0011</td>\n    </tr>\n    <tr>\n      <th>2</th>\n      <td>43</td>\n      <td>0.0</td>\n      <td>0.0000</td>\n      <td>0.0011</td>\n    </tr>\n    <tr>\n      <th>3</th>\n      <td>64</td>\n      <td>0.0</td>\n      <td>0.0000</td>\n      <td>0.0011</td>\n    </tr>\n    <tr>\n      <th>4</th>\n      <td>83</td>\n      <td>0.0</td>\n      <td>-0.0011</td>\n      <td>-0.0011</td>\n    </tr>\n  </tbody>\n</table>\n</div>"
     },
     "execution_count": 80,
     "metadata": {},
     "output_type": "execute_result"
    }
   ],
   "source": [
    "# order column\n",
    "# acc_1 = acc_1[['time','x','y','z']]\n",
    "# gyro_1 = gyro_1[['time','x','y','z']]\n",
    "# gravity = gravity[['time','x','y','z']]\n",
    "\n",
    "acc_1 = ins[['time','ax','ay','az']]\n",
    "gyro_1 = ins[['time','gx','gy','gz']]\n",
    "\n",
    "gyro_1.head()"
   ],
   "metadata": {
    "collapsed": false,
    "pycharm": {
     "name": "#%%\n"
    }
   }
  },
  {
   "cell_type": "code",
   "execution_count": 80,
   "outputs": [],
   "source": [],
   "metadata": {
    "collapsed": false,
    "pycharm": {
     "name": "#%%\n"
    }
   }
  },
  {
   "cell_type": "code",
   "execution_count": 81,
   "outputs": [],
   "source": [
    "# add gravity to acceleration\n",
    "# acc_1.iloc[:,1:4] = acc_1.iloc[:,1:4] + gravity.iloc[:,1:4]\n",
    "#\n",
    "# acc_1.head()"
   ],
   "metadata": {
    "collapsed": false,
    "pycharm": {
     "name": "#%%\n"
    }
   }
  },
  {
   "cell_type": "code",
   "execution_count": 82,
   "outputs": [],
   "source": [
    "# acc_1= acc_1.iloc[5:,:]\n",
    "# gyro_1= gyro_1.iloc[5:,:]\n",
    "#\n",
    "# acc_1 = acc_1.reset_index()\n",
    "# gyro_1 = gyro_1.reset_index()\n",
    "#\n",
    "# acc_1.head()"
   ],
   "metadata": {
    "collapsed": false,
    "pycharm": {
     "name": "#%%\n"
    }
   }
  },
  {
   "cell_type": "code",
   "execution_count": 83,
   "outputs": [
    {
     "name": "stderr",
     "output_type": "stream",
     "text": [
      "C:\\Users\\DELL\\Anaconda3\\lib\\site-packages\\ipykernel_launcher.py:3: SettingWithCopyWarning: \n",
      "A value is trying to be set on a copy of a slice from a DataFrame.\n",
      "Try using .loc[row_indexer,col_indexer] = value instead\n",
      "\n",
      "See the caveats in the documentation: http://pandas.pydata.org/pandas-docs/stable/user_guide/indexing.html#returning-a-view-versus-a-copy\n",
      "  This is separate from the ipykernel package so we can avoid doing imports until\n"
     ]
    }
   ],
   "source": [
    "# Total acceleration\n",
    "acc_1['acceleration'] =np.sqrt(acc_1['ax']**2+acc_1['ay']**2+acc_1['az']**2)"
   ],
   "metadata": {
    "collapsed": false,
    "pycharm": {
     "name": "#%%\n"
    }
   }
  },
  {
   "cell_type": "code",
   "execution_count": 84,
   "outputs": [],
   "source": [
    "# # join dataframes\n",
    "# df1 = acc_1.join(gyro_1.set_index('time'),on=\"time\",lsuffix='_acc', rsuffix='_gyro')\n"
   ],
   "metadata": {
    "collapsed": false,
    "pycharm": {
     "name": "#%%\n"
    }
   }
  },
  {
   "cell_type": "code",
   "execution_count": 85,
   "outputs": [
    {
     "name": "stderr",
     "output_type": "stream",
     "text": [
      "C:\\Users\\DELL\\Anaconda3\\lib\\site-packages\\ipykernel_launcher.py:6: SettingWithCopyWarning: \n",
      "A value is trying to be set on a copy of a slice from a DataFrame.\n",
      "Try using .loc[row_indexer,col_indexer] = value instead\n",
      "\n",
      "See the caveats in the documentation: http://pandas.pydata.org/pandas-docs/stable/user_guide/indexing.html#returning-a-view-versus-a-copy\n",
      "  \n",
      "C:\\Users\\DELL\\Anaconda3\\lib\\site-packages\\ipykernel_launcher.py:7: SettingWithCopyWarning: \n",
      "A value is trying to be set on a copy of a slice from a DataFrame.\n",
      "Try using .loc[row_indexer,col_indexer] = value instead\n",
      "\n",
      "See the caveats in the documentation: http://pandas.pydata.org/pandas-docs/stable/user_guide/indexing.html#returning-a-view-versus-a-copy\n",
      "  import sys\n"
     ]
    }
   ],
   "source": [
    "# Define the first sample as '0' and convert from nanoseconds to seconds\n",
    "# acc_1['time'] = (acc_1['time']-acc_1.loc[0,'time'])*(1e-9)\n",
    "# gyro_1['time'] = (gyro_1['time']-gyro_1.loc[0,'time'])*(1e-9)\n",
    "\n",
    "acc_1['time'] = (acc_1['time']-acc_1.loc[0,'time'])*(1e-3)\n",
    "gyro_1['time'] = (gyro_1['time']-gyro_1.loc[0,'time'])*(1e-3)"
   ],
   "metadata": {
    "collapsed": false,
    "pycharm": {
     "name": "#%%\n"
    }
   }
  },
  {
   "cell_type": "code",
   "execution_count": 86,
   "outputs": [
    {
     "name": "stderr",
     "output_type": "stream",
     "text": [
      "C:\\Users\\DELL\\Anaconda3\\lib\\site-packages\\pandas\\core\\indexing.py:205: SettingWithCopyWarning: \n",
      "A value is trying to be set on a copy of a slice from a DataFrame\n",
      "\n",
      "See the caveats in the documentation: http://pandas.pydata.org/pandas-docs/stable/user_guide/indexing.html#returning-a-view-versus-a-copy\n",
      "  self._setitem_with_indexer(indexer, value)\n",
      "C:\\Users\\DELL\\Anaconda3\\lib\\site-packages\\ipykernel_launcher.py:2: SettingWithCopyWarning: \n",
      "A value is trying to be set on a copy of a slice from a DataFrame\n",
      "\n",
      "See the caveats in the documentation: http://pandas.pydata.org/pandas-docs/stable/user_guide/indexing.html#returning-a-view-versus-a-copy\n",
      "  \n",
      "C:\\Users\\DELL\\Anaconda3\\lib\\site-packages\\ipykernel_launcher.py:3: SettingWithCopyWarning: \n",
      "A value is trying to be set on a copy of a slice from a DataFrame\n",
      "\n",
      "See the caveats in the documentation: http://pandas.pydata.org/pandas-docs/stable/user_guide/indexing.html#returning-a-view-versus-a-copy\n",
      "  This is separate from the ipykernel package so we can avoid doing imports until\n"
     ]
    },
    {
     "data": {
      "text/plain": "    time        ax        ay        az  acceleration\n0  0.000  9.800202 -0.019022 -0.279051      9.190158\n1  0.021  9.795402 -0.022622 -0.267051      9.185206\n2  0.040  9.795402 -0.022622 -0.267051      9.185206\n3  0.061  9.795402 -0.022622 -0.267051      9.185206\n4  0.080  9.795402 -0.022622 -0.267051      9.185206",
      "text/html": "<div>\n<style scoped>\n    .dataframe tbody tr th:only-of-type {\n        vertical-align: middle;\n    }\n\n    .dataframe tbody tr th {\n        vertical-align: top;\n    }\n\n    .dataframe thead th {\n        text-align: right;\n    }\n</style>\n<table border=\"1\" class=\"dataframe\">\n  <thead>\n    <tr style=\"text-align: right;\">\n      <th></th>\n      <th>time</th>\n      <th>ax</th>\n      <th>ay</th>\n      <th>az</th>\n      <th>acceleration</th>\n    </tr>\n  </thead>\n  <tbody>\n    <tr>\n      <th>0</th>\n      <td>0.000</td>\n      <td>9.800202</td>\n      <td>-0.019022</td>\n      <td>-0.279051</td>\n      <td>9.190158</td>\n    </tr>\n    <tr>\n      <th>1</th>\n      <td>0.021</td>\n      <td>9.795402</td>\n      <td>-0.022622</td>\n      <td>-0.267051</td>\n      <td>9.185206</td>\n    </tr>\n    <tr>\n      <th>2</th>\n      <td>0.040</td>\n      <td>9.795402</td>\n      <td>-0.022622</td>\n      <td>-0.267051</td>\n      <td>9.185206</td>\n    </tr>\n    <tr>\n      <th>3</th>\n      <td>0.061</td>\n      <td>9.795402</td>\n      <td>-0.022622</td>\n      <td>-0.267051</td>\n      <td>9.185206</td>\n    </tr>\n    <tr>\n      <th>4</th>\n      <td>0.080</td>\n      <td>9.795402</td>\n      <td>-0.022622</td>\n      <td>-0.267051</td>\n      <td>9.185206</td>\n    </tr>\n  </tbody>\n</table>\n</div>"
     },
     "execution_count": 86,
     "metadata": {},
     "output_type": "execute_result"
    }
   ],
   "source": [
    "# bais\n",
    "acc_1.iloc[:,1:4] = acc_1.iloc[:,1:4]-ba\n",
    "gyro_1.iloc[:,1:4] = gyro_1.iloc[:,1:4]-bg\n",
    "\n",
    "acc_1.head()"
   ],
   "metadata": {
    "collapsed": false,
    "pycharm": {
     "name": "#%%\n"
    }
   }
  },
  {
   "cell_type": "code",
   "execution_count": 87,
   "outputs": [
    {
     "data": {
      "text/plain": "<Figure size 1080x360 with 1 Axes>",
      "image/png": "[encoded data removed]"
     },
     "metadata": {},
     "output_type": "display_data"
    }
   ],
   "source": [
    "# plot acceleration\n",
    "fig = plt.figure(figsize=(15,5))\n",
    "plt.plot(acc_1['time'],acc_1['acceleration'], '-g')\n",
    "plt.xlabel('time [sec]')\n",
    "plt.ylabel('Acceleration [m/s^2]')\n",
    "plt.show()"
   ],
   "metadata": {
    "collapsed": false,
    "pycharm": {
     "name": "#%%\n"
    }
   }
  },
  {
   "cell_type": "code",
   "execution_count": 88,
   "outputs": [],
   "source": [
    "# # plot gyroscope data in each axes\n",
    "# fig, axs = plt.subplots(nrows=3, ncols=1,sharex=True, figsize=(15,5))\n",
    "#\n",
    "# axs[0].plot(gyro_1['time'],gyro_1['x'], '-r')\n",
    "# axs[0].set_ylabel('omega x')\n",
    "#\n",
    "# axs[1].plot(gyro_1['time'],gyro_1['y'], '-g')\n",
    "# axs[1].set_ylabel('omega y')\n",
    "#\n",
    "# axs[2].plot(gyro_1['time'],gyro_1['z'], '-b')\n",
    "# axs[2].set_ylabel('omega z')\n",
    "#\n",
    "# axs[2].set_xlabel('time [sec]')\n",
    "#\n",
    "#\n",
    "# plt.show()"
   ],
   "metadata": {
    "collapsed": false,
    "pycharm": {
     "name": "#%%\n"
    }
   }
  },
  {
   "cell_type": "code",
   "execution_count": 89,
   "outputs": [],
   "source": [
    "def vector2anti_Sim(v):\n",
    "    return np.array([[0,-v[2],v[1]],[v[2],0,-v[0]],[-v[1],v[0],0]])"
   ],
   "metadata": {
    "collapsed": false,
    "pycharm": {
     "name": "#%%\n"
    }
   }
  },
  {
   "cell_type": "code",
   "execution_count": 90,
   "outputs": [],
   "source": [
    "# Initial parameters\n",
    "Re = 6378137\n",
    "e = 0.0818191908\n",
    "omega_ie = (2*np.pi)/(24*60*60) # Earth turn rate\n",
    "\n",
    "# Calc' initial angles (10 sec' in stationary conditions\n",
    "# fx = acc_1['x'].mean()\n",
    "# fy = acc_1['y'].mean()\n",
    "# fz = acc_1['z'].mean()\n",
    "\n",
    "fx = acc_1.loc[0,'ax']\n",
    "fy = acc_1.loc[0,'ay']\n",
    "fz = acc_1.loc[0,'az']\n",
    "\n",
    "roll_0 = np.arctan2(-fy, -fz)\n",
    "pitch_0 = np.arctan2(-fx, np.sqrt(fz**2 + fy**2))\n",
    "# from compass\n",
    "yaw_0 = np.deg2rad(230)\n",
    "\n",
    "# from google map\n",
    "lat_0 = np.deg2rad(32.780724)\n",
    "lon_0 = np.deg2rad(35.020606)\n",
    "h_0 = 183\n",
    "\n",
    "v_0 = np.array([[0,0,0]]).T\n",
    "# r_0 = np.array([[lat_0, lon_0, h_0]]).T\n",
    "r_0 = np.array([[0, 0, 0]]).T\n",
    "\n",
    "Rm = Re * (1 - e ** 2) / (1 - e ** 2 * sin(lat_0) * 2) ** (3 / 2)\n",
    "Rn = Re / (1 - e ** 2 * sin(lat_0) * 2) ** (1 / 2)\n",
    "g = 9.7803 + 0.051799*sin(lat_0) - h_0*0.94114/1000000\n",
    "gn = np.array([[0,0,g]]).T"
   ],
   "metadata": {
    "collapsed": false,
    "pycharm": {
     "name": "#%%\n"
    }
   }
  },
  {
   "cell_type": "code",
   "execution_count": 91,
   "outputs": [],
   "source": [
    "# Rotation matrix\n",
    "T_roll = np.array([[cos(roll_0),0,-sin(roll_0)],[0,1,0],[sin(roll_0),0,cos(roll_0)]])\n",
    "T_pitch = np.array([[1,0,0],[0,cos(pitch_0),sin(pitch_0)],[0,-sin(pitch_0),cos(pitch_0)]])\n",
    "T_yaw = np.array([[cos(yaw_0),sin(yaw_0),0],[-sin(yaw_0),cos(yaw_0),0],[0,0,1]])\n",
    "\n",
    "tb_n_0 = T_roll.dot(T_pitch.dot(T_yaw))"
   ],
   "metadata": {
    "collapsed": false,
    "pycharm": {
     "name": "#%%\n"
    }
   }
  },
  {
   "cell_type": "code",
   "execution_count": 92,
   "outputs": [],
   "source": [
    "# find the time interval between every sample\n",
    "n = acc_1.shape[0]\n",
    "samples = acc_1.to_numpy()\n",
    "dt = samples[1:n, 0] - samples[0:(n - 1), 0]\n",
    "# dt = np.average(dt)"
   ],
   "metadata": {
    "collapsed": false,
    "pycharm": {
     "name": "#%%\n"
    }
   }
  },
  {
   "cell_type": "code",
   "execution_count": 93,
   "outputs": [],
   "source": [
    "# init the lists of the navigation solution\n",
    "Pose = [r_0]\n",
    "Velocity = [v_0]\n",
    "Attitude = [tb_n_0]"
   ],
   "metadata": {
    "collapsed": false,
    "pycharm": {
     "name": "#%%\n"
    }
   }
  },
  {
   "cell_type": "code",
   "execution_count": 94,
   "outputs": [],
   "source": [
    "for i in range(n-1):\n",
    "\n",
    "    # calculate next Tb_n\n",
    "    sigma_x = dt[i] * vector2anti_Sim(gyro_1.iloc[i,1:4])\n",
    "    sigma = np.sqrt(sigma_x[0,1]**2 + sigma_x[0,2]**2 + sigma_x[1,2]**2)\n",
    "    tb_n = tb_n_0.dot(np.identity(3) + (sin(sigma)/sigma)*sigma_x + ((1-cos(sigma))/sigma**2)*np.dot(sigma_x, sigma_x))\n",
    "\n",
    "    Attitude.append(tb_n)\n",
    "\n",
    "    # calculate next V dot\n",
    "\n",
    "    # phi = r_0[0,0]\n",
    "    # h = r_0[2,0]\n",
    "    phi = lat_0\n",
    "    h = h_0\n",
    "    # full calculation\n",
    "    # omega_ie_n =  vector2anti_Sim(np.array([omega_ie*cos(phi),0,-omega_ie*sin(phi)]))\n",
    "    # omega_en = vector2anti_Sim(np.array([-v_0[1,0]/(Rn+h),-v_0[0,0]/(Rm+h),-v_0[1,0]*np.tan(phi)/(Rn+h)]))\n",
    "    # f_b =g*row[1:4][:, np.newaxis]\n",
    "    # v_dot = np.dot(tb_n, f_b) + gn - np.dot(omega_en+2*omega_ie_n, v_0)\n",
    "\n",
    "    f_b = acc_1.iloc[i,1:4][:, np.newaxis]\n",
    "    # simplify\n",
    "    v_dot = np.dot(tb_n, f_b) + gn\n",
    "\n",
    "    # calculate next V\n",
    "    v = v_0 + dt[i]*v_dot\n",
    "    Velocity.append(v)\n",
    "\n",
    "    # calculate next position\n",
    "    # D = np.dot(np.identity(3),np.array([1/(Rm+h),1/(cos(phi)*(Rn+h)),-1]))\n",
    "    # D = np.diag(np.array([1/(Rm+h),1/(cos(phi)*(Rn+h)),-1]))\n",
    "    # r_dot = np.dot(D, v)\n",
    "\n",
    "    # simplify\n",
    "    r_dot = v\n",
    "\n",
    "    # calculate next R\n",
    "    r = r_0 + dt[i]*r_dot\n",
    "    Pose.append(r)\n",
    "\n",
    "    tb_n_0 = tb_n\n",
    "    v_0 = v\n",
    "    r_0 = r"
   ],
   "metadata": {
    "collapsed": false,
    "pycharm": {
     "name": "#%%\n"
    }
   }
  },
  {
   "cell_type": "code",
   "execution_count": 95,
   "outputs": [],
   "source": [
    "Velocity = np.reshape(np.array(Velocity),(len(Velocity),3))\n",
    "Pose = np.reshape(np.array(Pose),(len(Pose),3))\n",
    "Attitude = np.array(Attitude)"
   ],
   "metadata": {
    "collapsed": false,
    "pycharm": {
     "name": "#%%\n"
    }
   }
  },
  {
   "cell_type": "code",
   "execution_count": 96,
   "outputs": [
    {
     "name": "stdout",
     "output_type": "stream",
     "text": [
      "start point : [0. 0. 0.]\n",
      "end point: [-2308.89253715   132.36173995  5769.94223352]\n",
      "total dist [m]: 2312.683371826201\n",
      "altitude change [m]: 5769.942233518314\n",
      "average speed [m/sec]: 237.82431857437078\n"
     ]
    }
   ],
   "source": [
    "# transform R from rad to degrees (lat,lon,h)\n",
    "# Pose[:,0:2] = np.rad2deg(Pose[:,0:2])\n",
    "\n",
    "V_norm = np.sqrt(Velocity[:, 0]**2 + Velocity[:,1]**2 + Velocity[:,2]**2)\n",
    "\n",
    "print('start point :',Pose[0])\n",
    "print('end point:', Pose[-1])\n",
    "# deg_to_meter = 108000\n",
    "deltaX = np.sqrt((Pose[-1, 0]-Pose[0, 0])**2 + (Pose[-1, 1]-Pose[0, 1])**2) # * deg_to_meter\n",
    "deltaH = Pose[-1,2] - Pose[0,2]\n",
    "print('total dist [m]:', deltaX)\n",
    "print('altitude change [m]:', deltaH)\n",
    "print('average speed [m/sec]:', np.average(V_norm))"
   ],
   "metadata": {
    "collapsed": false,
    "pycharm": {
     "name": "#%%\n"
    }
   }
  },
  {
   "cell_type": "code",
   "execution_count": 97,
   "outputs": [
    {
     "data": {
      "text/plain": "[<matplotlib.lines.Line2D at 0x195af335198>]"
     },
     "execution_count": 97,
     "metadata": {},
     "output_type": "execute_result"
    },
    {
     "data": {
      "text/plain": "<Figure size 432x288 with 1 Axes>",
      "image/png": "[encoded data removed]"
     },
     "metadata": {},
     "output_type": "display_data"
    }
   ],
   "source": [
    "plt.figure()\n",
    "plt.plot(Pose[:,0],Pose[:,1])"
   ],
   "metadata": {
    "collapsed": false,
    "pycharm": {
     "name": "#%%\n"
    }
   }
  }
 ],
 "metadata": {
  "kernelspec": {
   "display_name": "Python 3",
   "language": "python",
   "name": "python3"
  },
  "language_info": {
   "codemirror_mode": {
    "name": "ipython",
    "version": 2
   },
   "file_extension": ".py",
   "mimetype": "text/x-python",
   "name": "python",
   "nbconvert_exporter": "python",
   "pygments_lexer": "ipython2",
   "version": "2.7.6"
  }
 },
 "nbformat": 4,
 "nbformat_minor": 0
}