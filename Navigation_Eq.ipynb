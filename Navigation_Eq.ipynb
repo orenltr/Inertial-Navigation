{
 "cells": [
  {
   "cell_type": "code",
   "execution_count": 121,
   "metadata": {
    "collapsed": true
   },
   "outputs": [],
   "source": [
    "import numpy as np\n",
    "from numpy import cos, sin\n",
    "from numpy.linalg import norm\n",
    "import pandas as pd\n",
    "import matplotlib.pyplot as plt\n",
    "%matplotlib inline\n"
   ]
  },
  {
   "cell_type": "markdown",
   "source": [
    "## calibration"
   ],
   "metadata": {
    "collapsed": false
   }
  },
  {
   "source": [
    "Six-Position Direct Method"
   ],
   "cell_type": "markdown",
   "metadata": {}
  },
  {
   "cell_type": "code",
   "execution_count": 122,
   "outputs": [],
   "source": [
    "fields = ['ax','ay','az','gx','gy','gz','time','date']\n",
    "Xdn = pd.read_csv(r'data\\calibration\\X\\1.csv', skiprows=1, names=fields)\n",
    "Xup = pd.read_csv(r'data\\calibration\\X\\2.csv', skiprows=1, names=fields)\n",
    "\n",
    "Ydn = pd.read_csv(r'data\\calibration\\Y\\1.csv', skiprows=1, names=fields)\n",
    "Yup = pd.read_csv(r'data\\calibration\\Y\\2.csv', skiprows=1, names=fields)\n",
    "\n",
    "Zdn = pd.read_csv(r'data\\calibration\\Z\\1.csv', skiprows=1, names=fields)\n",
    "Zup = pd.read_csv(r'data\\calibration\\Z\\2.csv', skiprows=1, names=fields)"
   ],
   "metadata": {
    "collapsed": false,
    "pycharm": {
     "name": "#%%\n"
    }
   }
  },
  {
   "cell_type": "code",
   "execution_count": 123,
   "outputs": [],
   "source": [
    "bXa = (Xdn.iloc[:,0].mean()+Xup.iloc[:,0].mean())/2\n",
    "bYa = (Ydn.iloc[:,1].mean()+Yup.iloc[:,1].mean())/2\n",
    "bZa = (Zdn.iloc[:,2].mean()+Zup.iloc[:,2].mean())/2\n",
    "\n",
    "bXg = (Xdn.iloc[:,3].mean()+Xup.iloc[:,3].mean())/2\n",
    "bYg = (Ydn.iloc[:,4].mean()+Yup.iloc[:,4].mean())/2\n",
    "bZg = (Zdn.iloc[:,5].mean()+Zup.iloc[:,5].mean())/2\n",
    "\n",
    "ba = np.array([bXa,bYa,bZa])\n",
    "bg = np.array([bXg,bYg,bZg])"
   ],
   "metadata": {
    "collapsed": false,
    "pycharm": {
     "name": "#%%\n"
    }
   }
  },
  {
   "cell_type": "code",
   "execution_count": 124,
   "metadata": {},
   "outputs": [
    {
     "name": "stdout",
     "output_type": "stream",
     "text": [
      "9.810809281627797\n",
      "-9.720768743914414\n",
      "-9.791203715992124\n",
      "9.776061287269464\n",
      "-9.868686837029713\n",
      "9.721345964768654\n"
     ]
    }
   ],
   "source": [
    "print(Xdn.iloc[:,0].mean())\n",
    "print(Xup.iloc[:,0].mean())\n",
    "print(Ydn.iloc[:,1].mean())\n",
    "print(Yup.iloc[:,1].mean())\n",
    "print(Zdn.iloc[:,2].mean())\n",
    "print(Zup.iloc[:,2].mean())"
   ]
  },
  {
   "source": [
    "## Load accelerometer and gyro data"
   ],
   "cell_type": "markdown",
   "metadata": {}
  },
  {
   "cell_type": "code",
   "execution_count": 125,
   "outputs": [],
   "source": [
    "# read data\n",
    "# acc_1 = pd.read_csv(r'data\\70_steps_acc.csv')\n",
    "# gyro_1 = pd.read_csv(r'data\\70_steps_gyro.csv')\n",
    "# gravity = pd.read_csv(r'data\\24_steps\\Gravity.csv')"
   ],
   "metadata": {
    "collapsed": false,
    "pycharm": {
     "name": "#%%\n"
    }
   }
  },
  {
   "cell_type": "code",
   "execution_count": 126,
   "outputs": [
    {
     "data": {
      "text/plain": "      ax     ay     az   gx   gy   gz  time                     date\n0  9.817  0.125  0.122  0.0  0.0  0.0    25  2021-01-15 19:02:08:278\n1  9.817  0.125  0.122  0.0  0.0  0.0    35  2021-01-15 19:02:08:288\n2  9.817  0.125  0.122  0.0  0.0  0.0    46  2021-01-15 19:02:08:299\n3  9.817  0.125  0.122  0.0  0.0  0.0    56  2021-01-15 19:02:08:309\n4  9.817  0.125  0.122  0.0  0.0  0.0    67  2021-01-15 19:02:08:320",
      "text/html": "<div>\n<style scoped>\n    .dataframe tbody tr th:only-of-type {\n        vertical-align: middle;\n    }\n\n    .dataframe tbody tr th {\n        vertical-align: top;\n    }\n\n    .dataframe thead th {\n        text-align: right;\n    }\n</style>\n<table border=\"1\" class=\"dataframe\">\n  <thead>\n    <tr style=\"text-align: right;\">\n      <th></th>\n      <th>ax</th>\n      <th>ay</th>\n      <th>az</th>\n      <th>gx</th>\n      <th>gy</th>\n      <th>gz</th>\n      <th>time</th>\n      <th>date</th>\n    </tr>\n  </thead>\n  <tbody>\n    <tr>\n      <td>0</td>\n      <td>9.817</td>\n      <td>0.125</td>\n      <td>0.122</td>\n      <td>0.0</td>\n      <td>0.0</td>\n      <td>0.0</td>\n      <td>25</td>\n      <td>2021-01-15 19:02:08:278</td>\n    </tr>\n    <tr>\n      <td>1</td>\n      <td>9.817</td>\n      <td>0.125</td>\n      <td>0.122</td>\n      <td>0.0</td>\n      <td>0.0</td>\n      <td>0.0</td>\n      <td>35</td>\n      <td>2021-01-15 19:02:08:288</td>\n    </tr>\n    <tr>\n      <td>2</td>\n      <td>9.817</td>\n      <td>0.125</td>\n      <td>0.122</td>\n      <td>0.0</td>\n      <td>0.0</td>\n      <td>0.0</td>\n      <td>46</td>\n      <td>2021-01-15 19:02:08:299</td>\n    </tr>\n    <tr>\n      <td>3</td>\n      <td>9.817</td>\n      <td>0.125</td>\n      <td>0.122</td>\n      <td>0.0</td>\n      <td>0.0</td>\n      <td>0.0</td>\n      <td>56</td>\n      <td>2021-01-15 19:02:08:309</td>\n    </tr>\n    <tr>\n      <td>4</td>\n      <td>9.817</td>\n      <td>0.125</td>\n      <td>0.122</td>\n      <td>0.0</td>\n      <td>0.0</td>\n      <td>0.0</td>\n      <td>67</td>\n      <td>2021-01-15 19:02:08:320</td>\n    </tr>\n  </tbody>\n</table>\n</div>"
     },
     "execution_count": 126,
     "metadata": {},
     "output_type": "execute_result"
    }
   ],
   "source": [
    "ins = pd.read_csv(r'data\\calibration\\X\\1.csv', skiprows=1, names=fields)\n",
    "# ins.columns = ['ax','ay','az','gx','gy','gz','time','date']\n",
    "ins.head()"
   ],
   "metadata": {
    "collapsed": false,
    "pycharm": {
     "name": "#%%\n"
    }
   }
  },
  {
   "cell_type": "code",
   "execution_count": 127,
   "outputs": [
    {
     "data": {
      "text/plain": "   time   gx   gy   gz\n0    25  0.0  0.0  0.0\n1    35  0.0  0.0  0.0\n2    46  0.0  0.0  0.0\n3    56  0.0  0.0  0.0\n4    67  0.0  0.0  0.0",
      "text/html": "<div>\n<style scoped>\n    .dataframe tbody tr th:only-of-type {\n        vertical-align: middle;\n    }\n\n    .dataframe tbody tr th {\n        vertical-align: top;\n    }\n\n    .dataframe thead th {\n        text-align: right;\n    }\n</style>\n<table border=\"1\" class=\"dataframe\">\n  <thead>\n    <tr style=\"text-align: right;\">\n      <th></th>\n      <th>time</th>\n      <th>gx</th>\n      <th>gy</th>\n      <th>gz</th>\n    </tr>\n  </thead>\n  <tbody>\n    <tr>\n      <td>0</td>\n      <td>25</td>\n      <td>0.0</td>\n      <td>0.0</td>\n      <td>0.0</td>\n    </tr>\n    <tr>\n      <td>1</td>\n      <td>35</td>\n      <td>0.0</td>\n      <td>0.0</td>\n      <td>0.0</td>\n    </tr>\n    <tr>\n      <td>2</td>\n      <td>46</td>\n      <td>0.0</td>\n      <td>0.0</td>\n      <td>0.0</td>\n    </tr>\n    <tr>\n      <td>3</td>\n      <td>56</td>\n      <td>0.0</td>\n      <td>0.0</td>\n      <td>0.0</td>\n    </tr>\n    <tr>\n      <td>4</td>\n      <td>67</td>\n      <td>0.0</td>\n      <td>0.0</td>\n      <td>0.0</td>\n    </tr>\n  </tbody>\n</table>\n</div>"
     },
     "execution_count": 127,
     "metadata": {},
     "output_type": "execute_result"
    }
   ],
   "source": [
    "# order column\n",
    "# acc_1 = acc_1[['time','x','y','z']]\n",
    "# gyro_1 = gyro_1[['time','x','y','z']]\n",
    "# gravity = gravity[['time','x','y','z']]\n",
    "\n",
    "acc_1 = ins[['time','ax','ay','az']]\n",
    "gyro_1 = ins[['time','gx','gy','gz']]\n",
    "\n",
    "gyro_1.head()"
   ],
   "metadata": {
    "collapsed": false,
    "pycharm": {
     "name": "#%%\n"
    }
   }
  },
  {
   "cell_type": "code",
   "execution_count": 127,
   "outputs": [],
   "source": [],
   "metadata": {
    "collapsed": false,
    "pycharm": {
     "name": "#%%\n"
    }
   }
  },
  {
   "cell_type": "code",
   "execution_count": 128,
   "outputs": [],
   "source": [
    "# add gravity to acceleration\n",
    "# acc_1.iloc[:,1:4] = acc_1.iloc[:,1:4] + gravity.iloc[:,1:4]\n",
    "#\n",
    "# acc_1.head()"
   ],
   "metadata": {
    "collapsed": false,
    "pycharm": {
     "name": "#%%\n"
    }
   }
  },
  {
   "cell_type": "code",
   "execution_count": 129,
   "outputs": [],
   "source": [
    "# acc_1= acc_1.iloc[5:,:]\n",
    "# gyro_1= gyro_1.iloc[5:,:]\n",
    "#\n",
    "# acc_1 = acc_1.reset_index()\n",
    "# gyro_1 = gyro_1.reset_index()\n",
    "#\n",
    "# acc_1.head()"
   ],
   "metadata": {
    "collapsed": false,
    "pycharm": {
     "name": "#%%\n"
    }
   }
  },
  {
   "cell_type": "code",
   "execution_count": 130,
   "outputs": [
    {
     "name": "stderr",
     "output_type": "stream",
     "text": [
      "C:\\Users\\Dell\\Anaconda3\\lib\\site-packages\\ipykernel_launcher.py:2: SettingWithCopyWarning: \n",
      "A value is trying to be set on a copy of a slice from a DataFrame.\n",
      "Try using .loc[row_indexer,col_indexer] = value instead\n",
      "\n",
      "See the caveats in the documentation: http://pandas.pydata.org/pandas-docs/stable/user_guide/indexing.html#returning-a-view-versus-a-copy\n",
      "  \n"
     ]
    }
   ],
   "source": [
    "# Total acceleration\n",
    "acc_1['magnitude'] =np.sqrt(acc_1['ax']**2+acc_1['ay']**2+acc_1['az']**2)"
   ],
   "metadata": {
    "collapsed": false,
    "pycharm": {
     "name": "#%%\n"
    }
   }
  },
  {
   "cell_type": "code",
   "execution_count": 131,
   "outputs": [],
   "source": [
    "# # join dataframes\n",
    "# df1 = acc_1.join(gyro_1.set_index('time'),on=\"time\",lsuffix='_acc', rsuffix='_gyro')\n"
   ],
   "metadata": {
    "collapsed": false,
    "pycharm": {
     "name": "#%%\n"
    }
   }
  },
  {
   "cell_type": "code",
   "execution_count": 132,
   "outputs": [
    {
     "name": "stderr",
     "output_type": "stream",
     "text": [
      "C:\\Users\\Dell\\Anaconda3\\lib\\site-packages\\ipykernel_launcher.py:5: SettingWithCopyWarning: \n",
      "A value is trying to be set on a copy of a slice from a DataFrame.\n",
      "Try using .loc[row_indexer,col_indexer] = value instead\n",
      "\n",
      "See the caveats in the documentation: http://pandas.pydata.org/pandas-docs/stable/user_guide/indexing.html#returning-a-view-versus-a-copy\n",
      "  \"\"\"\n",
      "C:\\Users\\Dell\\Anaconda3\\lib\\site-packages\\ipykernel_launcher.py:6: SettingWithCopyWarning: \n",
      "A value is trying to be set on a copy of a slice from a DataFrame.\n",
      "Try using .loc[row_indexer,col_indexer] = value instead\n",
      "\n",
      "See the caveats in the documentation: http://pandas.pydata.org/pandas-docs/stable/user_guide/indexing.html#returning-a-view-versus-a-copy\n",
      "  \n"
     ]
    }
   ],
   "source": [
    "# Define the first sample as '0' and convert from nanoseconds to seconds\n",
    "# acc_1['time'] = (acc_1['time']-acc_1.loc[0,'time'])*(1e-9)\n",
    "# gyro_1['time'] = (gyro_1['time']-gyro_1.loc[0,'time'])*(1e-9)\n",
    "\n",
    "acc_1['time'] = (acc_1['time']-acc_1.loc[0,'time'])*(1e-3)\n",
    "gyro_1['time'] = (gyro_1['time']-gyro_1.loc[0,'time'])*(1e-3)"
   ],
   "metadata": {
    "collapsed": false,
    "pycharm": {
     "name": "#%%\n"
    }
   }
  },
  {
   "source": [
    "### Reduce bias computed in the calibration"
   ],
   "cell_type": "markdown",
   "metadata": {}
  },
  {
   "cell_type": "code",
   "execution_count": 133,
   "outputs": [
    {
     "name": "stderr",
     "output_type": "stream",
     "text": [
      "C:\\Users\\Dell\\Anaconda3\\lib\\site-packages\\pandas\\core\\indexing.py:205: SettingWithCopyWarning: \n",
      "A value is trying to be set on a copy of a slice from a DataFrame\n",
      "\n",
      "See the caveats in the documentation: http://pandas.pydata.org/pandas-docs/stable/user_guide/indexing.html#returning-a-view-versus-a-copy\n",
      "  self._setitem_with_indexer(indexer, value)\n",
      "C:\\Users\\Dell\\Anaconda3\\lib\\site-packages\\ipykernel_launcher.py:2: SettingWithCopyWarning: \n",
      "A value is trying to be set on a copy of a slice from a DataFrame\n",
      "\n",
      "See the caveats in the documentation: http://pandas.pydata.org/pandas-docs/stable/user_guide/indexing.html#returning-a-view-versus-a-copy\n",
      "  \n",
      "C:\\Users\\Dell\\Anaconda3\\lib\\site-packages\\ipykernel_launcher.py:3: SettingWithCopyWarning: \n",
      "A value is trying to be set on a copy of a slice from a DataFrame\n",
      "\n",
      "See the caveats in the documentation: http://pandas.pydata.org/pandas-docs/stable/user_guide/indexing.html#returning-a-view-versus-a-copy\n",
      "  This is separate from the ipykernel package so we can avoid doing imports until\n"
     ]
    },
    {
     "data": {
      "text/plain": "    time       ax        ay       az  magnitude\n0  0.000  9.77198  0.132571  0.19567   9.818554\n1  0.010  9.77198  0.132571  0.19567   9.818554\n2  0.021  9.77198  0.132571  0.19567   9.818554\n3  0.031  9.77198  0.132571  0.19567   9.818554\n4  0.042  9.77198  0.132571  0.19567   9.818554",
      "text/html": "<div>\n<style scoped>\n    .dataframe tbody tr th:only-of-type {\n        vertical-align: middle;\n    }\n\n    .dataframe tbody tr th {\n        vertical-align: top;\n    }\n\n    .dataframe thead th {\n        text-align: right;\n    }\n</style>\n<table border=\"1\" class=\"dataframe\">\n  <thead>\n    <tr style=\"text-align: right;\">\n      <th></th>\n      <th>time</th>\n      <th>ax</th>\n      <th>ay</th>\n      <th>az</th>\n      <th>magnitude</th>\n    </tr>\n  </thead>\n  <tbody>\n    <tr>\n      <td>0</td>\n      <td>0.000</td>\n      <td>9.77198</td>\n      <td>0.132571</td>\n      <td>0.19567</td>\n      <td>9.818554</td>\n    </tr>\n    <tr>\n      <td>1</td>\n      <td>0.010</td>\n      <td>9.77198</td>\n      <td>0.132571</td>\n      <td>0.19567</td>\n      <td>9.818554</td>\n    </tr>\n    <tr>\n      <td>2</td>\n      <td>0.021</td>\n      <td>9.77198</td>\n      <td>0.132571</td>\n      <td>0.19567</td>\n      <td>9.818554</td>\n    </tr>\n    <tr>\n      <td>3</td>\n      <td>0.031</td>\n      <td>9.77198</td>\n      <td>0.132571</td>\n      <td>0.19567</td>\n      <td>9.818554</td>\n    </tr>\n    <tr>\n      <td>4</td>\n      <td>0.042</td>\n      <td>9.77198</td>\n      <td>0.132571</td>\n      <td>0.19567</td>\n      <td>9.818554</td>\n    </tr>\n  </tbody>\n</table>\n</div>"
     },
     "execution_count": 133,
     "metadata": {},
     "output_type": "execute_result"
    }
   ],
   "source": [
    "# bais\n",
    "acc_1.iloc[:,1:4] = acc_1.iloc[:,1:4]-ba\n",
    "gyro_1.iloc[:,1:4] = gyro_1.iloc[:,1:4]-bg\n",
    "\n",
    "acc_1.head()"
   ],
   "metadata": {
    "collapsed": false,
    "pycharm": {
     "name": "#%%\n"
    }
   }
  },
  {
   "cell_type": "code",
   "execution_count": 134,
   "outputs": [
    {
     "data": {
      "text/plain": "<Figure size 1080x360 with 1 Axes>",
      "image/png": "[encoded data removed]"
     },
     "metadata": {
      "needs_background": "light"
     },
     "output_type": "display_data"
    }
   ],
   "source": [
    "# plot acceleration\n",
    "fig = plt.figure(figsize=(15,5))\n",
    "plt.plot(acc_1['time'],acc_1['magnitude'], '-g')\n",
    "plt.xlabel('time [sec]')\n",
    "plt.ylabel('Acceleration [m/s^2]')\n",
    "plt.show()"
   ],
   "metadata": {
    "collapsed": false,
    "pycharm": {
     "name": "#%%\n"
    }
   }
  },
  {
   "cell_type": "code",
   "execution_count": 135,
   "outputs": [
    {
     "data": {
      "text/plain": "<Figure size 1080x360 with 3 Axes>",
      "image/png": "[encoded data removed]"
     },
     "metadata": {
      "needs_background": "light"
     },
     "output_type": "display_data"
    }
   ],
   "source": [
    "# plot gyroscope data in each axes\n",
    "fig, axs = plt.subplots(nrows=3, ncols=1,sharex=True, figsize=(15,5))\n",
    "\n",
    "axs[0].plot(gyro_1['time'],gyro_1['gx'], '-r')\n",
    "axs[0].set_ylabel('omega x')\n",
    "\n",
    "axs[1].plot(gyro_1['time'],gyro_1['gy'], '-g')\n",
    "axs[1].set_ylabel('omega y')\n",
    "\n",
    "axs[2].plot(gyro_1['time'],gyro_1['gz'], '-b')\n",
    "axs[2].set_ylabel('omega z')\n",
    "\n",
    "axs[2].set_xlabel('time [sec]')\n",
    "\n",
    "\n",
    "plt.show()"
   ],
   "metadata": {
    "collapsed": false,
    "pycharm": {
     "name": "#%%\n"
    }
   }
  },
  {
   "cell_type": "code",
   "execution_count": 136,
   "outputs": [],
   "source": [
    "def vector2anti_Sim(v):\n",
    "    return np.array([[0,-v[2],v[1]],[v[2],0,-v[0]],[-v[1],v[0],0]])"
   ],
   "metadata": {
    "collapsed": false,
    "pycharm": {
     "name": "#%%\n"
    }
   }
  },
  {
   "cell_type": "code",
   "execution_count": 137,
   "outputs": [],
   "source": [
    "# Initial parameters\n",
    "Re = 6378137\n",
    "e = 0.0818191908\n",
    "omega_ie = (2*np.pi)/(24*60*60) # Earth turn rate\n",
    "\n",
    "# Calc' initial angles (10 sec' in stationary conditions\n",
    "# fx = acc_1['x'].mean()\n",
    "# fy = acc_1['y'].mean()\n",
    "# fz = acc_1['z'].mean()\n",
    "\n",
    "fx = acc_1.loc[:10,'ax'].mean()\n",
    "fy = acc_1.loc[:10,'ay'].mean()\n",
    "fz = acc_1.loc[:10,'az'].mean()\n",
    "\n",
    "roll_0 = np.arctan2(-fy, -fz)\n",
    "pitch_0 = np.arctan2(-fx, np.sqrt(fz**2 + fy**2))\n",
    "# from compass\n",
    "yaw_0 = np.deg2rad(230)\n",
    "\n",
    "# from google map\n",
    "lat_0 = np.deg2rad(32.780724)\n",
    "lon_0 = np.deg2rad(35.020606)\n",
    "h_0 = 183\n",
    "\n",
    "v_0 = np.array([[0,0,0]]).T\n",
    "# r_0 = np.array([[lat_0, lon_0, h_0]]).T\n",
    "r_0 = np.array([[0, 0, 0]]).T\n",
    "\n",
    "Rm = Re * (1 - e ** 2) / (1 - e ** 2 * sin(lat_0) * 2) ** (3 / 2)\n",
    "Rn = Re / (1 - e ** 2 * sin(lat_0) * 2) ** (1 / 2)\n",
    "g = 9.7803 + 0.051799*sin(lat_0) - h_0*0.94114/1000000\n",
    "gn = np.array([[0,0,g]]).T\n"
   ],
   "metadata": {
    "collapsed": false,
    "pycharm": {
     "name": "#%%\n"
    }
   }
  },
  {
   "cell_type": "code",
   "execution_count": 138,
   "outputs": [],
   "source": [
    "# Rotation matrix\n",
    "T_yaw = np.array([[cos(yaw_0),sin(yaw_0),0],[-sin(yaw_0),cos(yaw_0),0],[0,0,1]])\n",
    "T_pitch = np.array([[cos(pitch_0),0,-sin(pitch_0)],[0,1,0],[sin(pitch_0),0,cos(pitch_0)]])\n",
    "T_roll = np.array([[1,0,0],[0,cos(roll_0),sin(roll_0)],[0,-sin(roll_0),cos(roll_0)]])\n",
    "\n",
    "tb_n_0 = T_yaw.dot(T_pitch.dot(T_roll))\n",
    "f_b = acc_1.iloc[0,1:4][:, np.newaxis]\n",
    "T = tb_n_0.dot(f_b)"
   ],
   "metadata": {
    "collapsed": false,
    "pycharm": {
     "name": "#%%\n"
    }
   }
  },
  {
   "cell_type": "code",
   "execution_count": 139,
   "outputs": [],
   "source": [
    "# find the time interval between every sample\n",
    "n = acc_1.shape[0]\n",
    "samples = acc_1.to_numpy()\n",
    "dt = samples[1:n, 0] - samples[0:(n - 1), 0]\n",
    "# dt = np.average(dt)"
   ],
   "metadata": {
    "collapsed": false,
    "pycharm": {
     "name": "#%%\n"
    }
   }
  },
  {
   "cell_type": "code",
   "execution_count": 140,
   "outputs": [],
   "source": [
    "# init the lists of the navigation solution\n",
    "Pose = [r_0]\n",
    "Velocity = [v_0]\n",
    "Attitude = [tb_n_0]"
   ],
   "metadata": {
    "collapsed": false,
    "pycharm": {
     "name": "#%%\n"
    }
   }
  },
  {
   "cell_type": "code",
   "execution_count": 141,
   "outputs": [],
   "source": [
    "epsilon = 10**(-6)\n",
    "dist = [0]\n",
    "Velocity_size = [0]\n",
    "Acceleration_size =[0]\n",
    "Acceleration =[]\n",
    "for i in range(n-1):\n",
    "\n",
    "    if dt[i] == 0: # for numeric reason\n",
    "        dt[i] += epsilon\n",
    "\n",
    "\n",
    "    # calculate next Tb_n\n",
    "    sigma_x = dt[i] * vector2anti_Sim(gyro_1.iloc[i,1:4])\n",
    "    sigma = np.sqrt(sigma_x[0,1]**2 + sigma_x[0,2]**2 + sigma_x[1,2]**2)\n",
    "    if sigma == 0: # for numeric reason\n",
    "        sigma = sigma + epsilon\n",
    "    tb_n = tb_n_0.dot(np.identity(3) + (sin(sigma)/sigma)*sigma_x + ((1-cos(sigma))/sigma**2)*np.dot(sigma_x, sigma_x))\n",
    "\n",
    "    Attitude.append(tb_n)\n",
    "\n",
    "    # calculate next V dot\n",
    "\n",
    "    f_b = acc_1.iloc[i,1:4][:, np.newaxis]\n",
    "    # simplify\n",
    "    v_dot = np.dot(tb_n, f_b) + gn\n",
    "    Acceleration_size.append(norm(v_dot)) # accumulating acceleration magnitude\n",
    "    Acceleration.append(v_dot.T) # accumulating acceleration magnitude\n",
    "\n",
    "    # calculate next V\n",
    "    v = v_0 + dt[i]*v_dot\n",
    "    Velocity.append(v)\n",
    "    Velocity_size.append(Velocity_size[-1]+norm(dt[i]*v_dot)) # accumulating velocity magnitude\n",
    "\n",
    "    # calculate next position\n",
    "    # D = np.dot(np.identity(3),np.array([1/(Rm+h),1/(cos(phi)*(Rn+h)),-1]))\n",
    "    # D = np.diag(np.array([1/(Rm+h),1/(cos(phi)*(Rn+h)),-1]))\n",
    "    # r_dot = np.dot(D, v)\n",
    "\n",
    "    # simplify\n",
    "    r_dot = v\n",
    "\n",
    "    # calculate next R\n",
    "    r = r_0 + dt[i]*r_dot\n",
    "    Pose.append(r)\n",
    "    dist.append(dist[-1]+norm(dt[i]*r_dot)) # accumulating distance \n",
    "\n",
    "\n",
    "    tb_n_0 = tb_n\n",
    "    v_0 = v\n",
    "    r_0 = r"
   ],
   "metadata": {
    "collapsed": false,
    "pycharm": {
     "name": "#%%\n"
    }
   }
  },
  {
   "cell_type": "code",
   "execution_count": 142,
   "outputs": [],
   "source": [
    "Velocity = np.reshape(np.array(Velocity),(len(Velocity),3))\n",
    "Pose = np.reshape(np.array(Pose),(len(Pose),3))\n",
    "Attitude = np.array(Attitude)"
   ],
   "metadata": {
    "collapsed": false,
    "pycharm": {
     "name": "#%%\n"
    }
   }
  },
  {
   "cell_type": "code",
   "execution_count": 143,
   "outputs": [
    {
     "name": "stdout",
     "output_type": "stream",
     "text": [
      "start point : [0. 0. 0.]\n",
      "end point: [ 28.98841762 142.19634705  23.86001309]\n",
      "total dist [m]: 145.12108554715243\n",
      "altitude change [m]: 23.86001308770681\n",
      "average speed [m/sec]: 5.648071211622861\n"
     ]
    }
   ],
   "source": [
    "# transform R from rad to degrees (lat,lon,h)\n",
    "# Pose[:,0:2] = np.rad2deg(Pose[:,0:2])\n",
    "\n",
    "V_norm = np.sqrt(Velocity[:, 0]**2 + Velocity[:,1]**2 + Velocity[:,2]**2)\n",
    "\n",
    "print('start point :',Pose[0])\n",
    "print('end point:', Pose[-1])\n",
    "# deg_to_meter = 108000\n",
    "deltaX = np.sqrt((Pose[-1, 0]-Pose[0, 0])**2 + (Pose[-1, 1]-Pose[0, 1])**2) # * deg_to_meter\n",
    "deltaH = Pose[-1,2] - Pose[0,2]\n",
    "print('total dist [m]:', deltaX)\n",
    "print('altitude change [m]:', deltaH)\n",
    "print('average speed [m/sec]:', np.average(V_norm))"
   ],
   "metadata": {
    "collapsed": false,
    "pycharm": {
     "name": "#%%\n"
    }
   }
  },
  {
   "cell_type": "code",
   "execution_count": 144,
   "outputs": [
    {
     "data": {
      "text/plain": "[<matplotlib.lines.Line2D at 0x21e63389688>]"
     },
     "execution_count": 144,
     "metadata": {},
     "output_type": "execute_result"
    },
    {
     "data": {
      "text/plain": "<Figure size 432x288 with 1 Axes>",
      "image/png": "[encoded data removed]"
     },
     "metadata": {
      "needs_background": "light"
     },
     "output_type": "display_data"
    }
   ],
   "source": [
    "plt.figure()\n",
    "plt.plot(Pose[:,0],Pose[:,1])"
   ],
   "metadata": {
    "collapsed": false,
    "pycharm": {
     "name": "#%%\n"
    }
   }
  },
  {
   "cell_type": "code",
   "execution_count": 145,
   "metadata": {},
   "outputs": [],
   "source": [
    "dist = np.asarray(dist)\n",
    "Velocity_size = np.asarray(Velocity_size)\n",
    "Acceleration_size = np.asarray(Acceleration_size)\n",
    "Acceleration = np.asarray(Acceleration)\n",
    "Acceleration = np.reshape(Acceleration,[Acceleration.shape[0],3])"
   ]
  },
  {
   "cell_type": "code",
   "execution_count": 146,
   "outputs": [
    {
     "data": {
      "text/plain": "<matplotlib.legend.Legend at 0x21e627c8388>"
     },
     "execution_count": 146,
     "metadata": {},
     "output_type": "execute_result"
    },
    {
     "data": {
      "text/plain": "<Figure size 432x288 with 1 Axes>",
      "image/png": "[encoded data removed]"
     },
     "metadata": {
      "needs_background": "light"
     },
     "output_type": "display_data"
    }
   ],
   "source": [
    "plt.figure()\n",
    "plt.plot(acc_1['time'],dist)\n",
    "plt.plot(acc_1['time'],Velocity_size)\n",
    "plt.plot(acc_1['time'],Acceleration_size)\n",
    "\n",
    "plt.legend(['distance','velocity','acceleration'])"
   ],
   "metadata": {
    "collapsed": false,
    "pycharm": {
     "name": "#%%\n"
    }
   }
  },
  {
   "cell_type": "code",
   "execution_count": 147,
   "metadata": {},
   "outputs": [
    {
     "data": {
      "text/plain": "-88.54138512328046"
     },
     "execution_count": 147,
     "metadata": {},
     "output_type": "execute_result"
    }
   ],
   "source": [
    "np.rad2deg(pitch_0)"
   ]
  },
  {
   "cell_type": "code",
   "execution_count": 148,
   "outputs": [],
   "source": [
    "f_b = np.array([9.8,0,0])\n",
    "a = np.dot(tb_n_0, f_b)\n"
   ],
   "metadata": {
    "collapsed": false,
    "pycharm": {
     "name": "#%%\n"
    }
   }
  }
 ],
 "metadata": {
  "kernelspec": {
   "display_name": "Python 3",
   "language": "python",
   "name": "python3"
  },
  "language_info": {
   "codemirror_mode": {
    "name": "ipython",
    "version": 2
   },
   "file_extension": ".py",
   "mimetype": "text/x-python",
   "name": "python",
   "nbconvert_exporter": "python",
   "pygments_lexer": "ipython2",
   "version": "3.7.4-final"
  }
 },
 "nbformat": 4,
 "nbformat_minor": 0
}