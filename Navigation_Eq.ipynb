{
 "cells": [
  {
   "cell_type": "code",
   "execution_count": 80,
   "metadata": {
    "collapsed": true
   },
   "outputs": [],
   "source": [
    "import numpy as np\n",
    "from numpy import cos, sin\n",
    "from numpy.linalg import norm\n",
    "import pandas as pd\n",
    "import matplotlib.pyplot as plt\n",
    "%matplotlib inline\n"
   ]
  },
  {
   "cell_type": "markdown",
   "source": [
    "## calibration"
   ],
   "metadata": {
    "collapsed": false
   }
  },
  {
   "source": [
    "Six-Position Direct Method"
   ],
   "cell_type": "markdown",
   "metadata": {}
  },
  {
   "cell_type": "code",
   "execution_count": 81,
   "outputs": [],
   "source": [
    "fields = ['ax','ay','az','gx','gy','gz','time','date']\n",
    "Xdn = pd.read_csv(r'data\\calibration\\X\\1.csv', skiprows=1, names=fields)\n",
    "Xup = pd.read_csv(r'data\\calibration\\X\\2.csv', skiprows=1, names=fields)\n",
    "\n",
    "Ydn = pd.read_csv(r'data\\calibration\\Y\\1.csv', skiprows=1, names=fields)\n",
    "Yup = pd.read_csv(r'data\\calibration\\Y\\2.csv', skiprows=1, names=fields)\n",
    "\n",
    "Zdn = pd.read_csv(r'data\\calibration\\Z\\1.csv', skiprows=1, names=fields)\n",
    "Zup = pd.read_csv(r'data\\calibration\\Z\\2.csv', skiprows=1, names=fields)"
   ],
   "metadata": {
    "collapsed": false,
    "pycharm": {
     "name": "#%%\n"
    }
   }
  },
  {
   "cell_type": "code",
   "execution_count": 82,
   "outputs": [],
   "source": [
    "bXa = (Xdn.iloc[:,0].mean()+Xup.iloc[:,0].mean())/2\n",
    "bYa = (Ydn.iloc[:,1].mean()+Yup.iloc[:,1].mean())/2\n",
    "bZa = (Zdn.iloc[:,2].mean()+Zup.iloc[:,2].mean())/2\n",
    "\n",
    "bXg = (Xdn.iloc[:,3].mean()+Xup.iloc[:,3].mean())/2\n",
    "bYg = (Ydn.iloc[:,4].mean()+Yup.iloc[:,4].mean())/2\n",
    "bZg = (Zdn.iloc[:,5].mean()+Zup.iloc[:,5].mean())/2\n",
    "\n",
    "ba = np.array([bXa,bYa,bZa])\n",
    "bg = np.array([bXg,bYg,bZg])"
   ],
   "metadata": {
    "collapsed": false,
    "pycharm": {
     "name": "#%%\n"
    }
   }
  },
  {
   "cell_type": "code",
   "execution_count": 83,
   "metadata": {},
   "outputs": [
    {
     "name": "stdout",
     "output_type": "stream",
     "text": [
      "9.810809281627797\n",
      "-9.720768743914414\n",
      "-9.791203715992124\n",
      "9.776061287269464\n",
      "-9.868686837029713\n",
      "9.721345964768654\n"
     ]
    }
   ],
   "source": [
    "print(Xdn.iloc[:,0].mean())\n",
    "print(Xup.iloc[:,0].mean())\n",
    "print(Ydn.iloc[:,1].mean())\n",
    "print(Yup.iloc[:,1].mean())\n",
    "print(Zdn.iloc[:,2].mean())\n",
    "print(Zup.iloc[:,2].mean())"
   ]
  },
  {
   "source": [
    "## Load accelerometer and gyro data"
   ],
   "cell_type": "markdown",
   "metadata": {}
  },
  {
   "cell_type": "code",
   "execution_count": 84,
   "outputs": [],
   "source": [
    "# read data\n",
    "# acc_1 = pd.read_csv(r'data\\70_steps_acc.csv')\n",
    "# gyro_1 = pd.read_csv(r'data\\70_steps_gyro.csv')\n",
    "# gravity = pd.read_csv(r'data\\24_steps\\Gravity.csv')"
   ],
   "metadata": {
    "collapsed": false,
    "pycharm": {
     "name": "#%%\n"
    }
   }
  },
  {
   "cell_type": "code",
   "execution_count": 85,
   "outputs": [
    {
     "data": {
      "text/plain": "      ax     ay     az   gx   gy   gz  time                     date\n0  0.022 -0.182 -9.862  0.0  0.0  0.0  1875  2021-01-15 19:00:36:157\n1  0.022 -0.182 -9.862  0.0  0.0  0.0  1885  2021-01-15 19:00:36:167\n2  0.022 -0.182 -9.862  0.0  0.0  0.0  1895  2021-01-15 19:00:36:177\n3  0.022 -0.182 -9.862  0.0  0.0  0.0  1906  2021-01-15 19:00:36:188\n4  0.022 -0.182 -9.862  0.0  0.0  0.0  1915  2021-01-15 19:00:36:197",
      "text/html": "<div>\n<style scoped>\n    .dataframe tbody tr th:only-of-type {\n        vertical-align: middle;\n    }\n\n    .dataframe tbody tr th {\n        vertical-align: top;\n    }\n\n    .dataframe thead th {\n        text-align: right;\n    }\n</style>\n<table border=\"1\" class=\"dataframe\">\n  <thead>\n    <tr style=\"text-align: right;\">\n      <th></th>\n      <th>ax</th>\n      <th>ay</th>\n      <th>az</th>\n      <th>gx</th>\n      <th>gy</th>\n      <th>gz</th>\n      <th>time</th>\n      <th>date</th>\n    </tr>\n  </thead>\n  <tbody>\n    <tr>\n      <td>0</td>\n      <td>0.022</td>\n      <td>-0.182</td>\n      <td>-9.862</td>\n      <td>0.0</td>\n      <td>0.0</td>\n      <td>0.0</td>\n      <td>1875</td>\n      <td>2021-01-15 19:00:36:157</td>\n    </tr>\n    <tr>\n      <td>1</td>\n      <td>0.022</td>\n      <td>-0.182</td>\n      <td>-9.862</td>\n      <td>0.0</td>\n      <td>0.0</td>\n      <td>0.0</td>\n      <td>1885</td>\n      <td>2021-01-15 19:00:36:167</td>\n    </tr>\n    <tr>\n      <td>2</td>\n      <td>0.022</td>\n      <td>-0.182</td>\n      <td>-9.862</td>\n      <td>0.0</td>\n      <td>0.0</td>\n      <td>0.0</td>\n      <td>1895</td>\n      <td>2021-01-15 19:00:36:177</td>\n    </tr>\n    <tr>\n      <td>3</td>\n      <td>0.022</td>\n      <td>-0.182</td>\n      <td>-9.862</td>\n      <td>0.0</td>\n      <td>0.0</td>\n      <td>0.0</td>\n      <td>1906</td>\n      <td>2021-01-15 19:00:36:188</td>\n    </tr>\n    <tr>\n      <td>4</td>\n      <td>0.022</td>\n      <td>-0.182</td>\n      <td>-9.862</td>\n      <td>0.0</td>\n      <td>0.0</td>\n      <td>0.0</td>\n      <td>1915</td>\n      <td>2021-01-15 19:00:36:197</td>\n    </tr>\n  </tbody>\n</table>\n</div>"
     },
     "execution_count": 85,
     "metadata": {},
     "output_type": "execute_result"
    }
   ],
   "source": [
    "ins = pd.read_csv(r'data\\calibration\\Z\\1.csv', skiprows=1, names=fields)\n",
    "# ins.columns = ['ax','ay','az','gx','gy','gz','time','date']\n",
    "ins.head()"
   ],
   "metadata": {
    "collapsed": false,
    "pycharm": {
     "name": "#%%\n"
    }
   }
  },
  {
   "cell_type": "code",
   "execution_count": 86,
   "outputs": [
    {
     "data": {
      "text/plain": "   time   gx   gy   gz\n0  1875  0.0  0.0  0.0\n1  1885  0.0  0.0  0.0\n2  1895  0.0  0.0  0.0\n3  1906  0.0  0.0  0.0\n4  1915  0.0  0.0  0.0",
      "text/html": "<div>\n<style scoped>\n    .dataframe tbody tr th:only-of-type {\n        vertical-align: middle;\n    }\n\n    .dataframe tbody tr th {\n        vertical-align: top;\n    }\n\n    .dataframe thead th {\n        text-align: right;\n    }\n</style>\n<table border=\"1\" class=\"dataframe\">\n  <thead>\n    <tr style=\"text-align: right;\">\n      <th></th>\n      <th>time</th>\n      <th>gx</th>\n      <th>gy</th>\n      <th>gz</th>\n    </tr>\n  </thead>\n  <tbody>\n    <tr>\n      <td>0</td>\n      <td>1875</td>\n      <td>0.0</td>\n      <td>0.0</td>\n      <td>0.0</td>\n    </tr>\n    <tr>\n      <td>1</td>\n      <td>1885</td>\n      <td>0.0</td>\n      <td>0.0</td>\n      <td>0.0</td>\n    </tr>\n    <tr>\n      <td>2</td>\n      <td>1895</td>\n      <td>0.0</td>\n      <td>0.0</td>\n      <td>0.0</td>\n    </tr>\n    <tr>\n      <td>3</td>\n      <td>1906</td>\n      <td>0.0</td>\n      <td>0.0</td>\n      <td>0.0</td>\n    </tr>\n    <tr>\n      <td>4</td>\n      <td>1915</td>\n      <td>0.0</td>\n      <td>0.0</td>\n      <td>0.0</td>\n    </tr>\n  </tbody>\n</table>\n</div>"
     },
     "execution_count": 86,
     "metadata": {},
     "output_type": "execute_result"
    }
   ],
   "source": [
    "# order column\n",
    "# acc_1 = acc_1[['time','x','y','z']]\n",
    "# gyro_1 = gyro_1[['time','x','y','z']]\n",
    "# gravity = gravity[['time','x','y','z']]\n",
    "\n",
    "acc_1 = ins[['time','ax','ay','az']]\n",
    "gyro_1 = ins[['time','gx','gy','gz']]\n",
    "\n",
    "gyro_1.head()"
   ],
   "metadata": {
    "collapsed": false,
    "pycharm": {
     "name": "#%%\n"
    }
   }
  },
  {
   "cell_type": "code",
   "execution_count": 86,
   "outputs": [],
   "source": [],
   "metadata": {
    "collapsed": false,
    "pycharm": {
     "name": "#%%\n"
    }
   }
  },
  {
   "cell_type": "code",
   "execution_count": 87,
   "outputs": [],
   "source": [
    "# add gravity to acceleration\n",
    "# acc_1.iloc[:,1:4] = acc_1.iloc[:,1:4] + gravity.iloc[:,1:4]\n",
    "#\n",
    "# acc_1.head()"
   ],
   "metadata": {
    "collapsed": false,
    "pycharm": {
     "name": "#%%\n"
    }
   }
  },
  {
   "cell_type": "code",
   "execution_count": 88,
   "outputs": [],
   "source": [
    "# acc_1= acc_1.iloc[5:,:]\n",
    "# gyro_1= gyro_1.iloc[5:,:]\n",
    "#\n",
    "# acc_1 = acc_1.reset_index()\n",
    "# gyro_1 = gyro_1.reset_index()\n",
    "#\n",
    "# acc_1.head()"
   ],
   "metadata": {
    "collapsed": false,
    "pycharm": {
     "name": "#%%\n"
    }
   }
  },
  {
   "cell_type": "code",
   "execution_count": 89,
   "outputs": [
    {
     "name": "stderr",
     "output_type": "stream",
     "text": [
      "C:\\Users\\Dell\\Anaconda3\\lib\\site-packages\\ipykernel_launcher.py:2: SettingWithCopyWarning: \n",
      "A value is trying to be set on a copy of a slice from a DataFrame.\n",
      "Try using .loc[row_indexer,col_indexer] = value instead\n",
      "\n",
      "See the caveats in the documentation: http://pandas.pydata.org/pandas-docs/stable/user_guide/indexing.html#returning-a-view-versus-a-copy\n",
      "  \n"
     ]
    }
   ],
   "source": [
    "# Total acceleration\n",
    "acc_1['magnitude'] =np.sqrt(acc_1['ax']**2+acc_1['ay']**2+acc_1['az']**2)"
   ],
   "metadata": {
    "collapsed": false,
    "pycharm": {
     "name": "#%%\n"
    }
   }
  },
  {
   "cell_type": "code",
   "execution_count": 90,
   "outputs": [],
   "source": [
    "# # join dataframes\n",
    "# df1 = acc_1.join(gyro_1.set_index('time'),on=\"time\",lsuffix='_acc', rsuffix='_gyro')\n"
   ],
   "metadata": {
    "collapsed": false,
    "pycharm": {
     "name": "#%%\n"
    }
   }
  },
  {
   "cell_type": "code",
   "execution_count": 91,
   "outputs": [
    {
     "name": "stderr",
     "output_type": "stream",
     "text": [
      "C:\\Users\\Dell\\Anaconda3\\lib\\site-packages\\ipykernel_launcher.py:5: SettingWithCopyWarning: \n",
      "A value is trying to be set on a copy of a slice from a DataFrame.\n",
      "Try using .loc[row_indexer,col_indexer] = value instead\n",
      "\n",
      "See the caveats in the documentation: http://pandas.pydata.org/pandas-docs/stable/user_guide/indexing.html#returning-a-view-versus-a-copy\n",
      "  \"\"\"\n",
      "C:\\Users\\Dell\\Anaconda3\\lib\\site-packages\\ipykernel_launcher.py:6: SettingWithCopyWarning: \n",
      "A value is trying to be set on a copy of a slice from a DataFrame.\n",
      "Try using .loc[row_indexer,col_indexer] = value instead\n",
      "\n",
      "See the caveats in the documentation: http://pandas.pydata.org/pandas-docs/stable/user_guide/indexing.html#returning-a-view-versus-a-copy\n",
      "  \n"
     ]
    }
   ],
   "source": [
    "# Define the first sample as '0' and convert from nanoseconds to seconds\n",
    "# acc_1['time'] = (acc_1['time']-acc_1.loc[0,'time'])*(1e-9)\n",
    "# gyro_1['time'] = (gyro_1['time']-gyro_1.loc[0,'time'])*(1e-9)\n",
    "\n",
    "acc_1['time'] = (acc_1['time']-acc_1.loc[0,'time'])*(1e-3)\n",
    "gyro_1['time'] = (gyro_1['time']-gyro_1.loc[0,'time'])*(1e-3)"
   ],
   "metadata": {
    "collapsed": false,
    "pycharm": {
     "name": "#%%\n"
    }
   }
  },
  {
   "source": [
    "### Reduce bias computed in the calibration"
   ],
   "cell_type": "markdown",
   "metadata": {}
  },
  {
   "cell_type": "code",
   "execution_count": 92,
   "outputs": [
    {
     "name": "stderr",
     "output_type": "stream",
     "text": [
      "C:\\Users\\Dell\\Anaconda3\\lib\\site-packages\\pandas\\core\\indexing.py:205: SettingWithCopyWarning: \n",
      "A value is trying to be set on a copy of a slice from a DataFrame\n",
      "\n",
      "See the caveats in the documentation: http://pandas.pydata.org/pandas-docs/stable/user_guide/indexing.html#returning-a-view-versus-a-copy\n",
      "  self._setitem_with_indexer(indexer, value)\n",
      "C:\\Users\\Dell\\Anaconda3\\lib\\site-packages\\ipykernel_launcher.py:2: SettingWithCopyWarning: \n",
      "A value is trying to be set on a copy of a slice from a DataFrame\n",
      "\n",
      "See the caveats in the documentation: http://pandas.pydata.org/pandas-docs/stable/user_guide/indexing.html#returning-a-view-versus-a-copy\n",
      "  \n",
      "C:\\Users\\Dell\\Anaconda3\\lib\\site-packages\\ipykernel_launcher.py:3: SettingWithCopyWarning: \n",
      "A value is trying to be set on a copy of a slice from a DataFrame\n",
      "\n",
      "See the caveats in the documentation: http://pandas.pydata.org/pandas-docs/stable/user_guide/indexing.html#returning-a-view-versus-a-copy\n",
      "  This is separate from the ipykernel package so we can avoid doing imports until\n"
     ]
    },
    {
     "data": {
      "text/plain": "    time     ax     ay     az  magnitude\n0  0.000  0.022 -0.182 -9.862   9.863704\n1  0.010  0.022 -0.182 -9.862   9.863704\n2  0.020  0.022 -0.182 -9.862   9.863704\n3  0.031  0.022 -0.182 -9.862   9.863704\n4  0.040  0.022 -0.182 -9.862   9.863704",
      "text/html": "<div>\n<style scoped>\n    .dataframe tbody tr th:only-of-type {\n        vertical-align: middle;\n    }\n\n    .dataframe tbody tr th {\n        vertical-align: top;\n    }\n\n    .dataframe thead th {\n        text-align: right;\n    }\n</style>\n<table border=\"1\" class=\"dataframe\">\n  <thead>\n    <tr style=\"text-align: right;\">\n      <th></th>\n      <th>time</th>\n      <th>ax</th>\n      <th>ay</th>\n      <th>az</th>\n      <th>magnitude</th>\n    </tr>\n  </thead>\n  <tbody>\n    <tr>\n      <td>0</td>\n      <td>0.000</td>\n      <td>0.022</td>\n      <td>-0.182</td>\n      <td>-9.862</td>\n      <td>9.863704</td>\n    </tr>\n    <tr>\n      <td>1</td>\n      <td>0.010</td>\n      <td>0.022</td>\n      <td>-0.182</td>\n      <td>-9.862</td>\n      <td>9.863704</td>\n    </tr>\n    <tr>\n      <td>2</td>\n      <td>0.020</td>\n      <td>0.022</td>\n      <td>-0.182</td>\n      <td>-9.862</td>\n      <td>9.863704</td>\n    </tr>\n    <tr>\n      <td>3</td>\n      <td>0.031</td>\n      <td>0.022</td>\n      <td>-0.182</td>\n      <td>-9.862</td>\n      <td>9.863704</td>\n    </tr>\n    <tr>\n      <td>4</td>\n      <td>0.040</td>\n      <td>0.022</td>\n      <td>-0.182</td>\n      <td>-9.862</td>\n      <td>9.863704</td>\n    </tr>\n  </tbody>\n</table>\n</div>"
     },
     "execution_count": 92,
     "metadata": {},
     "output_type": "execute_result"
    }
   ],
   "source": [
    "# bais\n",
    "acc_1.iloc[:,1:4] = acc_1.iloc[:,1:4]#-ba\n",
    "gyro_1.iloc[:,1:4] = gyro_1.iloc[:,1:4]#-bg\n",
    "\n",
    "acc_1.head()"
   ],
   "metadata": {
    "collapsed": false,
    "pycharm": {
     "name": "#%%\n"
    }
   }
  },
  {
   "cell_type": "code",
   "execution_count": 93,
   "outputs": [
    {
     "data": {
      "text/plain": "<Figure size 1080x360 with 1 Axes>",
      "image/png": "[encoded data removed]"
     },
     "metadata": {
      "needs_background": "light"
     },
     "output_type": "display_data"
    }
   ],
   "source": [
    "# plot acceleration\n",
    "fig = plt.figure(figsize=(15,5))\n",
    "plt.plot(acc_1['time'],acc_1['magnitude'], '-g')\n",
    "plt.xlabel('time [sec]')\n",
    "plt.ylabel('Acceleration [m/s^2]')\n",
    "plt.show()"
   ],
   "metadata": {
    "collapsed": false,
    "pycharm": {
     "name": "#%%\n"
    }
   }
  },
  {
   "cell_type": "code",
   "execution_count": 94,
   "outputs": [
    {
     "data": {
      "text/plain": "<Figure size 1080x360 with 3 Axes>",
      "image/png": "[encoded data removed]"
     },
     "metadata": {
      "needs_background": "light"
     },
     "output_type": "display_data"
    }
   ],
   "source": [
    "# plot gyroscope data in each axes\n",
    "fig, axs = plt.subplots(nrows=3, ncols=1,sharex=True, figsize=(15,5))\n",
    "\n",
    "axs[0].plot(gyro_1['time'],gyro_1['gx'], '-r')\n",
    "axs[0].set_ylabel('omega x')\n",
    "\n",
    "axs[1].plot(gyro_1['time'],gyro_1['gy'], '-g')\n",
    "axs[1].set_ylabel('omega y')\n",
    "\n",
    "axs[2].plot(gyro_1['time'],gyro_1['gz'], '-b')\n",
    "axs[2].set_ylabel('omega z')\n",
    "\n",
    "axs[2].set_xlabel('time [sec]')\n",
    "\n",
    "\n",
    "plt.show()"
   ],
   "metadata": {
    "collapsed": false,
    "pycharm": {
     "name": "#%%\n"
    }
   }
  },
  {
   "cell_type": "code",
   "execution_count": 95,
   "outputs": [],
   "source": [
    "def vector2anti_Sim(v):\n",
    "    return np.array([[0,-v[2],v[1]],[v[2],0,-v[0]],[-v[1],v[0],0]])"
   ],
   "metadata": {
    "collapsed": false,
    "pycharm": {
     "name": "#%%\n"
    }
   }
  },
  {
   "cell_type": "code",
   "execution_count": 96,
   "outputs": [],
   "source": [
    "# Initial parameters\n",
    "Re = 6378137\n",
    "e = 0.0818191908\n",
    "omega_ie = (2*np.pi)/(24*60*60) # Earth turn rate\n",
    "\n",
    "# Calc' initial angles (10 sec' in stationary conditions\n",
    "# fx = acc_1['x'].mean()\n",
    "# fy = acc_1['y'].mean()\n",
    "# fz = acc_1['z'].mean()\n",
    "\n",
    "fx = acc_1.loc[:10,'ax'].mean()\n",
    "fy = acc_1.loc[:10,'ay'].mean()\n",
    "fz = acc_1.loc[:10,'az'].mean()\n",
    "\n",
    "roll_0 = np.arctan2(-fy, -fz)\n",
    "pitch_0 = np.arctan2(-fx, np.sqrt(fz**2 + fy**2))\n",
    "# from compass\n",
    "yaw_0 = np.deg2rad(230)\n",
    "\n",
    "# from google map\n",
    "lat_0 = np.deg2rad(32.780724)\n",
    "lon_0 = np.deg2rad(35.020606)\n",
    "h_0 = 183\n",
    "\n",
    "v_0 = np.array([[0,0,0]]).T\n",
    "# r_0 = np.array([[lat_0, lon_0, h_0]]).T\n",
    "r_0 = np.array([[0, 0, 0]]).T\n",
    "\n",
    "Rm = Re * (1 - e ** 2) / (1 - e ** 2 * sin(lat_0) * 2) ** (3 / 2)\n",
    "Rn = Re / (1 - e ** 2 * sin(lat_0) * 2) ** (1 / 2)\n",
    "g = 9.7803 + 0.051799*sin(lat_0) - h_0*0.94114/1000000\n",
    "gn = np.array([[0,0,g]]).T"
   ],
   "metadata": {
    "collapsed": false,
    "pycharm": {
     "name": "#%%\n"
    }
   }
  },
  {
   "cell_type": "code",
   "execution_count": 97,
   "outputs": [],
   "source": [
    "# Rotation matrix\n",
    "T_roll = np.array([[cos(roll_0),0,-sin(roll_0)],[0,1,0],[sin(roll_0),0,cos(roll_0)]])\n",
    "T_pitch = np.array([[1,0,0],[0,cos(pitch_0),sin(pitch_0)],[0,-sin(pitch_0),cos(pitch_0)]])\n",
    "T_yaw = np.array([[cos(yaw_0),sin(yaw_0),0],[-sin(yaw_0),cos(yaw_0),0],[0,0,1]])\n",
    "\n",
    "tb_n_0 = T_roll.dot(T_pitch.dot(T_yaw))"
   ],
   "metadata": {
    "collapsed": false,
    "pycharm": {
     "name": "#%%\n"
    }
   }
  },
  {
   "cell_type": "code",
   "execution_count": 98,
   "outputs": [],
   "source": [
    "# find the time interval between every sample\n",
    "n = acc_1.shape[0]\n",
    "samples = acc_1.to_numpy()\n",
    "dt = samples[1:n, 0] - samples[0:(n - 1), 0]\n",
    "# dt = np.average(dt)"
   ],
   "metadata": {
    "collapsed": false,
    "pycharm": {
     "name": "#%%\n"
    }
   }
  },
  {
   "cell_type": "code",
   "execution_count": 99,
   "outputs": [],
   "source": [
    "# init the lists of the navigation solution\n",
    "Pose = [r_0]\n",
    "Velocity = [v_0]\n",
    "Attitude = [tb_n_0]"
   ],
   "metadata": {
    "collapsed": false,
    "pycharm": {
     "name": "#%%\n"
    }
   }
  },
  {
   "cell_type": "code",
   "execution_count": 100,
   "outputs": [],
   "source": [
    "epsilon = 10**(-6)\n",
    "dist = [0]\n",
    "Velocity_size = [0]\n",
    "Acceleration_size =[0]\n",
    "for i in range(n-1):\n",
    "\n",
    "    if dt[i] == 0: # for numeric reason\n",
    "        dt[i] += epsilon\n",
    "\n",
    "\n",
    "    # calculate next Tb_n\n",
    "    sigma_x = dt[i] * vector2anti_Sim(gyro_1.iloc[i,1:4])\n",
    "    sigma = np.sqrt(sigma_x[0,1]**2 + sigma_x[0,2]**2 + sigma_x[1,2]**2)\n",
    "    if sigma == 0: # for numeric reason\n",
    "        sigma = sigma + epsilon\n",
    "    tb_n = tb_n_0.dot(np.identity(3) + (sin(sigma)/sigma)*sigma_x + ((1-cos(sigma))/sigma**2)*np.dot(sigma_x, sigma_x))\n",
    "\n",
    "    Attitude.append(tb_n)\n",
    "\n",
    "    # calculate next V dot\n",
    "\n",
    "    # phi = lat_0\n",
    "    # h = h_0\n",
    "    # full calculation\n",
    "    # omega_ie_n =  vector2anti_Sim(np.array([omega_ie*cos(phi),0,-omega_ie*sin(phi)]))\n",
    "    # omega_en = vector2anti_Sim(np.array([-v_0[1,0]/(Rn+h),-v_0[0,0]/(Rm+h),-v_0[1,0]*np.tan(phi)/(Rn+h)]))\n",
    "    # f_b =acc_1.iloc[i,1:4][:, np.newaxis]\n",
    "    # v_dot = np.dot(tb_n, f_b) + gn - np.dot(omega_en+2*omega_ie_n, v_0)\n",
    "\n",
    "    f_b = acc_1.iloc[i,1:4][:, np.newaxis]\n",
    "    # simplify\n",
    "    v_dot = np.dot(tb_n, f_b) + gn\n",
    "    Acceleration_size.append(norm(v_dot)) # accumulating acceleration magnitude\n",
    "\n",
    "    # calculate next V\n",
    "    v = v_0 + dt[i]*v_dot\n",
    "    Velocity.append(v)\n",
    "    Velocity_size.append(Velocity_size[-1]+norm(dt[i]*v_dot)) # accumulating velocity magnitude\n",
    "\n",
    "    # calculate next position\n",
    "    # D = np.dot(np.identity(3),np.array([1/(Rm+h),1/(cos(phi)*(Rn+h)),-1]))\n",
    "    # D = np.diag(np.array([1/(Rm+h),1/(cos(phi)*(Rn+h)),-1]))\n",
    "    # r_dot = np.dot(D, v)\n",
    "\n",
    "    # simplify\n",
    "    r_dot = v\n",
    "\n",
    "    # calculate next R\n",
    "    r = r_0 + dt[i]*r_dot\n",
    "    Pose.append(r)\n",
    "    dist.append(dist[-1]+norm(dt[i]*r_dot)) # accumulating distance \n",
    "\n",
    "\n",
    "    tb_n_0 = tb_n\n",
    "    v_0 = v\n",
    "    r_0 = r"
   ],
   "metadata": {
    "collapsed": false,
    "pycharm": {
     "name": "#%%\n"
    }
   }
  },
  {
   "cell_type": "code",
   "execution_count": 101,
   "outputs": [],
   "source": [
    "Velocity = np.reshape(np.array(Velocity),(len(Velocity),3))\n",
    "Pose = np.reshape(np.array(Pose),(len(Pose),3))\n",
    "Attitude = np.array(Attitude)"
   ],
   "metadata": {
    "collapsed": false,
    "pycharm": {
     "name": "#%%\n"
    }
   }
  },
  {
   "cell_type": "code",
   "execution_count": 102,
   "outputs": [
    {
     "name": "stdout",
     "output_type": "stream",
     "text": [
      "start point : [0. 0. 0.]\n",
      "end point: [121.38400466  79.54904706 -22.73844896]\n",
      "total dist [m]: 145.12796931125646\n",
      "altitude change [m]: -22.73844896019765\n",
      "average speed [m/sec]: 6.353981095900328\n"
     ]
    }
   ],
   "source": [
    "# transform R from rad to degrees (lat,lon,h)\n",
    "# Pose[:,0:2] = np.rad2deg(Pose[:,0:2])\n",
    "\n",
    "V_norm = np.sqrt(Velocity[:, 0]**2 + Velocity[:,1]**2 + Velocity[:,2]**2)\n",
    "\n",
    "print('start point :',Pose[0])\n",
    "print('end point:', Pose[-1])\n",
    "# deg_to_meter = 108000\n",
    "deltaX = np.sqrt((Pose[-1, 0]-Pose[0, 0])**2 + (Pose[-1, 1]-Pose[0, 1])**2) # * deg_to_meter\n",
    "deltaH = Pose[-1,2] - Pose[0,2]\n",
    "print('total dist [m]:', deltaX)\n",
    "print('altitude change [m]:', deltaH)\n",
    "print('average speed [m/sec]:', np.average(V_norm))"
   ],
   "metadata": {
    "collapsed": false,
    "pycharm": {
     "name": "#%%\n"
    }
   }
  },
  {
   "cell_type": "code",
   "execution_count": 103,
   "outputs": [
    {
     "data": {
      "text/plain": "[<matplotlib.lines.Line2D at 0x183b51f78c8>]"
     },
     "execution_count": 103,
     "metadata": {},
     "output_type": "execute_result"
    },
    {
     "data": {
      "text/plain": "<Figure size 432x288 with 1 Axes>",
      "image/png": "[encoded data removed]"
     },
     "metadata": {
      "needs_background": "light"
     },
     "output_type": "display_data"
    }
   ],
   "source": [
    "plt.figure()\n",
    "plt.plot(Pose[:,0],Pose[:,1])"
   ],
   "metadata": {
    "collapsed": false,
    "pycharm": {
     "name": "#%%\n"
    }
   }
  },
  {
   "cell_type": "code",
   "execution_count": 104,
   "metadata": {},
   "outputs": [
    {
     "data": {
      "text/plain": "<matplotlib.legend.Legend at 0x183b31d43c8>"
     },
     "execution_count": 104,
     "metadata": {},
     "output_type": "execute_result"
    },
    {
     "data": {
      "text/plain": "<Figure size 432x288 with 1 Axes>",
      "image/png": "[encoded data removed]"
     },
     "metadata": {
      "needs_background": "light"
     },
     "output_type": "display_data"
    }
   ],
   "source": [
    "dist = np.asarray(dist)\n",
    "Velocity_size = np.asarray(Velocity_size)\n",
    "Acceleration_size = np.asarray(Acceleration_size)\n",
    "plt.figure()\n",
    "plt.plot(acc_1['time'],dist)\n",
    "plt.plot(acc_1['time'],Velocity_size)\n",
    "plt.plot(acc_1['time'],Acceleration_size)\n",
    "\n",
    "plt.legend(['distance','velocity','acceleration'])"
   ]
  },
  {
   "cell_type": "code",
   "execution_count": 105,
   "metadata": {},
   "outputs": [
    {
     "data": {
      "text/plain": "0.02290909090909091"
     },
     "execution_count": 105,
     "metadata": {},
     "output_type": "execute_result"
    }
   ],
   "source": [
    "fx = acc_1.loc[:10,'ax'].mean()\n",
    "fx"
   ]
  }
 ],
 "metadata": {
  "kernelspec": {
   "display_name": "Python 3",
   "language": "python",
   "name": "python3"
  },
  "language_info": {
   "codemirror_mode": {
    "name": "ipython",
    "version": 2
   },
   "file_extension": ".py",
   "mimetype": "text/x-python",
   "name": "python",
   "nbconvert_exporter": "python",
   "pygments_lexer": "ipython2",
   "version": "3.7.4-final"
  }
 },
 "nbformat": 4,
 "nbformat_minor": 0
}